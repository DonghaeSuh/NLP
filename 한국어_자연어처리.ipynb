{
  "nbformat": 4,
  "nbformat_minor": 0,
  "metadata": {
    "colab": {
      "name": "한국어 자연어처리 ",
      "provenance": [],
      "authorship_tag": "ABX9TyPveK9jl/v8MPBRhMVLhY0Z",
      "include_colab_link": true
    },
    "kernelspec": {
      "name": "python3",
      "display_name": "Python 3"
    },
    "language_info": {
      "name": "python"
    },
    "accelerator": "GPU"
  },
  "cells": [
    {
      "cell_type": "markdown",
      "metadata": {
        "id": "view-in-github",
        "colab_type": "text"
      },
      "source": [
        "<a href=\"https://colab.research.google.com/github/DonghaeSuh/NLP/blob/main/%ED%95%9C%EA%B5%AD%EC%96%B4_%EC%9E%90%EC%97%B0%EC%96%B4%EC%B2%98%EB%A6%AC.ipynb\" target=\"_parent\"><img src=\"https://colab.research.google.com/assets/colab-badge.svg\" alt=\"Open In Colab\"/></a>"
      ]
    },
    {
      "cell_type": "markdown",
      "metadata": {
        "id": "dNyzbNUVXP4v"
      },
      "source": [
        "# 3장 한국어 전처리\n",
        "\n"
      ]
    },
    {
      "cell_type": "markdown",
      "metadata": {
        "id": "JBm9hIfBXhWz"
      },
      "source": [
        "Khaii"
      ]
    },
    {
      "cell_type": "markdown",
      "metadata": {
        "id": "iWkMrOmQbc5c"
      },
      "source": [
        "참고자료 - https://fish-tank.tistory.com/103\n"
      ]
    },
    {
      "cell_type": "code",
      "metadata": {
        "id": "3-uUfEFSbgR4"
      },
      "source": [
        "!git clone https://github.com/kakao/khaiii.git\n",
        "!pip install cmake\n",
        "\n",
        "!mkdir build\n",
        "!cd build && cmake /content/khaiii\n",
        "!cd /content/build/ && make all\n",
        "!cd /content/build/ && make resource\n",
        "!cd /content/build && make install\n",
        "!cd /content/build && make package_python\n",
        "!pip install /content/build/package_python"
      ],
      "execution_count": null,
      "outputs": []
    },
    {
      "cell_type": "code",
      "metadata": {
        "id": "dzsEGyjAbjFR"
      },
      "source": [
        "from khaiii import KhaiiiApi\n",
        "tokenizer = KhaiiiApi()"
      ],
      "execution_count": null,
      "outputs": []
    },
    {
      "cell_type": "code",
      "metadata": {
        "id": "IllMCWnPbkeD"
      },
      "source": [
        "from khaiii import KhaiiiApi\n",
        "tokenizer = KhaiiiApi()\n",
        "\n",
        "data = tokenizer.analyze(\"아버지가방에들어가신다\")\n",
        "tokens = []\n",
        "for word in data:\n",
        "  tokens.extend([str(m).split(\"/\")[0] for m in word.morphs])\n",
        "\n",
        "print(tokens)"
      ],
      "execution_count": null,
      "outputs": []
    },
    {
      "cell_type": "code",
      "metadata": {
        "id": "xvC0gdMzbltP"
      },
      "source": [
        "from khaiii import KhaiiiApi\n",
        "tokenizer = KhaiiiApi()\n",
        "\n",
        "data = tokenizer.analyze(\"아버지가방에들어가신다\")\n",
        "tokens = []\n",
        "for word in data:\n",
        "  tokens.extend([str(m) for m in word.morphs])\n",
        "\n",
        "print(tokens)"
      ],
      "execution_count": null,
      "outputs": []
    },
    {
      "cell_type": "markdown",
      "metadata": {
        "id": "nUymaPy4bnp_"
      },
      "source": [
        "은전한닢에 사용자 사전 추가"
      ]
    },
    {
      "cell_type": "code",
      "metadata": {
        "id": "biUMv0EwbqsD"
      },
      "source": [
        "%%bash\n",
        "apt-get update\n",
        "apt-get install g++ openjdk-8-jdk python-dev python3-dev\n",
        "pip3 install JPype1\n",
        "pip3 install konlpy"
      ],
      "execution_count": null,
      "outputs": []
    },
    {
      "cell_type": "code",
      "metadata": {
        "id": "gmItKKT4b2La"
      },
      "source": [
        "%env JAVA_HOME \"/usr/lib/jvm/java-8-openjdk-amd64\""
      ],
      "execution_count": null,
      "outputs": []
    },
    {
      "cell_type": "code",
      "metadata": {
        "id": "W95frHuUb4AQ"
      },
      "source": [
        "%%bash\n",
        "bash <(curl -s https://raw.githubusercontent.com/konlpy/konlpy/master/scripts/mecab.sh)\n",
        "pip3 install /tmp/mecab-python-0.996"
      ],
      "execution_count": null,
      "outputs": []
    },
    {
      "cell_type": "code",
      "metadata": {
        "id": "7x9Nfw6BcMRj"
      },
      "source": [
        "from konlpy.tag import Mecab\n",
        " tokenizer = Mecab() \n",
        " tokenizer.morphs(\"가우스전자 텔레비전 정말 좋네요.\")"
      ],
      "execution_count": null,
      "outputs": []
    }
  ]
}